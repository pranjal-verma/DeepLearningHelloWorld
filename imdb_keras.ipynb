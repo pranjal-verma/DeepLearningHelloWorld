{
 "cells": [
  {
   "cell_type": "code",
   "execution_count": 36,
   "metadata": {},
   "outputs": [],
   "source": [
    "from keras.datasets import imdb\n",
    "import numpy as np\n",
    "from keras import layers\n",
    "from keras import models\n",
    "import matplotlib.pyplot as plt"
   ]
  },
  {
   "cell_type": "code",
   "execution_count": 2,
   "metadata": {},
   "outputs": [],
   "source": [
    "(train_data, train_labels), (test_set, test_data) = imdb.load_data(num_words = 10000)"
   ]
  },
  {
   "cell_type": "code",
   "execution_count": 3,
   "metadata": {},
   "outputs": [
    {
     "data": {
      "text/plain": [
       "numpy.ndarray"
      ]
     },
     "execution_count": 3,
     "metadata": {},
     "output_type": "execute_result"
    }
   ],
   "source": [
    "type(train_data)"
   ]
  },
  {
   "cell_type": "code",
   "execution_count": 10,
   "metadata": {},
   "outputs": [
    {
     "data": {
      "text/plain": [
       "68"
      ]
     },
     "execution_count": 10,
     "metadata": {},
     "output_type": "execute_result"
    }
   ],
   "source": [
    "len(test_set[0])\n",
    "\n"
   ]
  },
  {
   "cell_type": "raw",
   "metadata": {},
   "source": []
  },
  {
   "cell_type": "code",
   "execution_count": null,
   "metadata": {},
   "outputs": [],
   "source": []
  },
  {
   "cell_type": "code",
   "execution_count": 4,
   "metadata": {},
   "outputs": [],
   "source": [
    "#one hot encoding\n",
    "def vectorize_sequence(sequences, dimensions = 10000):\n",
    "    result = np.zeros((len(sequences), dimensions))\n",
    "    for i, sequence in enumerate(sequences):\n",
    "        result[i, sequence] = 1\n",
    "    return result\n"
   ]
  },
  {
   "cell_type": "code",
   "execution_count": 6,
   "metadata": {},
   "outputs": [],
   "source": [
    "x_train = vectorize_sequence(train_data)"
   ]
  },
  {
   "cell_type": "code",
   "execution_count": 7,
   "metadata": {},
   "outputs": [],
   "source": [
    "x_test = vectorize_sequence(test_set)"
   ]
  },
  {
   "cell_type": "code",
   "execution_count": 12,
   "metadata": {},
   "outputs": [],
   "source": [
    "y_train = np.asarray(train_labels).astype('float32')\n",
    "y_test  = np.asarray(test_data).astype('float32')"
   ]
  },
  {
   "cell_type": "code",
   "execution_count": 22,
   "metadata": {},
   "outputs": [],
   "source": [
    "neural_net = models.Sequential()\n",
    "neural_net.add(layers.Dense(16, activation = 'relu', input_shape = (10000,)))"
   ]
  },
  {
   "cell_type": "code",
   "execution_count": 23,
   "metadata": {},
   "outputs": [],
   "source": [
    "neural_net.add(layers.Dense(16,activation = 'relu'))\n",
    "neural_net.add(layers.Dense(1, activation = 'sigmoid'))"
   ]
  },
  {
   "cell_type": "code",
   "execution_count": 33,
   "metadata": {},
   "outputs": [],
   "source": [
    "neural_net.compile(optimizer='rmsprop', loss = 'binary_crossentropy', metrics= ['acc'])"
   ]
  },
  {
   "cell_type": "code",
   "execution_count": 34,
   "metadata": {},
   "outputs": [],
   "source": [
    "#make a validation set\n",
    "x_val = x_train[:10000]\n",
    "partial_x_train = x_train[10000:]\n",
    "y_val = y_train[ :10000]\n",
    "partial_y_train = y_train[10000:]  "
   ]
  },
  {
   "cell_type": "code",
   "execution_count": 35,
   "metadata": {},
   "outputs": [
    {
     "name": "stdout",
     "output_type": "stream",
     "text": [
      "Train on 15000 samples, validate on 10000 samples\n",
      "Epoch 1/20\n",
      "15000/15000 [==============================] - 3s 173us/step - loss: 0.4944 - acc: 0.7841 - val_loss: 0.3620 - val_acc: 0.8737\n",
      "Epoch 2/20\n",
      "15000/15000 [==============================] - 2s 136us/step - loss: 0.2869 - acc: 0.9061 - val_loss: 0.2952 - val_acc: 0.8874\n",
      "Epoch 3/20\n",
      "15000/15000 [==============================] - 2s 134us/step - loss: 0.2120 - acc: 0.9289 - val_loss: 0.2903 - val_acc: 0.8832\n",
      "Epoch 4/20\n",
      "15000/15000 [==============================] - 2s 133us/step - loss: 0.1721 - acc: 0.9414 - val_loss: 0.2772 - val_acc: 0.8881\n",
      "Epoch 5/20\n",
      "15000/15000 [==============================] - 2s 133us/step - loss: 0.1363 - acc: 0.9579 - val_loss: 0.2841 - val_acc: 0.8873\n",
      "Epoch 6/20\n",
      "15000/15000 [==============================] - 2s 133us/step - loss: 0.1151 - acc: 0.9643 - val_loss: 0.3036 - val_acc: 0.8825\n",
      "Epoch 7/20\n",
      "15000/15000 [==============================] - 2s 132us/step - loss: 0.0929 - acc: 0.9725 - val_loss: 0.3234 - val_acc: 0.8802\n",
      "Epoch 8/20\n",
      "15000/15000 [==============================] - 2s 132us/step - loss: 0.0753 - acc: 0.9792 - val_loss: 0.3536 - val_acc: 0.8804\n",
      "Epoch 9/20\n",
      "15000/15000 [==============================] - 2s 133us/step - loss: 0.0682 - acc: 0.9802 - val_loss: 0.3629 - val_acc: 0.8767\n",
      "Epoch 10/20\n",
      "15000/15000 [==============================] - 2s 132us/step - loss: 0.0519 - acc: 0.9878 - val_loss: 0.3815 - val_acc: 0.8781\n",
      "Epoch 11/20\n",
      "15000/15000 [==============================] - 2s 133us/step - loss: 0.0398 - acc: 0.9916 - val_loss: 0.4198 - val_acc: 0.8772\n",
      "Epoch 12/20\n",
      "15000/15000 [==============================] - 2s 133us/step - loss: 0.0332 - acc: 0.9933 - val_loss: 0.4604 - val_acc: 0.8728\n",
      "Epoch 13/20\n",
      "15000/15000 [==============================] - 2s 133us/step - loss: 0.0262 - acc: 0.9953 - val_loss: 0.4786 - val_acc: 0.8695\n",
      "Epoch 14/20\n",
      "15000/15000 [==============================] - 2s 133us/step - loss: 0.0198 - acc: 0.9973 - val_loss: 0.5158 - val_acc: 0.8719\n",
      "Epoch 15/20\n",
      "15000/15000 [==============================] - 2s 132us/step - loss: 0.0178 - acc: 0.9965 - val_loss: 0.5424 - val_acc: 0.8689\n",
      "Epoch 16/20\n",
      "15000/15000 [==============================] - 2s 132us/step - loss: 0.0095 - acc: 0.9996 - val_loss: 0.5816 - val_acc: 0.8705\n",
      "Epoch 17/20\n",
      "15000/15000 [==============================] - 2s 132us/step - loss: 0.0104 - acc: 0.9986 - val_loss: 0.6170 - val_acc: 0.8650\n",
      "Epoch 18/20\n",
      "15000/15000 [==============================] - 2s 133us/step - loss: 0.0090 - acc: 0.9984 - val_loss: 0.6466 - val_acc: 0.8671\n",
      "Epoch 19/20\n",
      "15000/15000 [==============================] - 2s 133us/step - loss: 0.0041 - acc: 0.9999 - val_loss: 0.9469 - val_acc: 0.8386\n",
      "Epoch 20/20\n",
      "15000/15000 [==============================] - 2s 132us/step - loss: 0.0062 - acc: 0.9989 - val_loss: 0.7143 - val_acc: 0.8651\n"
     ]
    }
   ],
   "source": [
    "history = neural_net.fit(partial_x_train, partial_y_train, epochs = 20, batch_size = 512, validation_data = (x_val, y_val))"
   ]
  },
  {
   "cell_type": "code",
   "execution_count": 38,
   "metadata": {},
   "outputs": [],
   "source": [
    "history_dict = history.history"
   ]
  },
  {
   "cell_type": "code",
   "execution_count": 39,
   "metadata": {},
   "outputs": [
    {
     "data": {
      "text/plain": [
       "dict_keys(['val_loss', 'val_acc', 'loss', 'acc'])"
      ]
     },
     "execution_count": 39,
     "metadata": {},
     "output_type": "execute_result"
    }
   ],
   "source": [
    "history_dict.keys()"
   ]
  },
  {
   "cell_type": "code",
   "execution_count": 43,
   "metadata": {},
   "outputs": [],
   "source": [
    "epochs = range(1, len(history_dict['acc']) + 1)\n",
    "loss_values = history_dict['loss']\n",
    "val_set_loss_values = history_dict['val_loss']"
   ]
  },
  {
   "cell_type": "code",
   "execution_count": 44,
   "metadata": {},
   "outputs": [
    {
     "data": {
      "image/png": "[encoded data removed]",
      "text/plain": [
       "<Figure size 432x288 with 1 Axes>"
      ]
     },
     "metadata": {
      "needs_background": "light"
     },
     "output_type": "display_data"
    }
   ],
   "source": [
    "plt.plot(epochs, loss_values, 'bo', label = 'Training loss')\n",
    "plt.plot(epochs, val_set_loss_values, 'b', label = 'Validation loss')\n",
    "plt.title('Training and validation loss')\n",
    "plt.xlabel('epochs')\n",
    "plt.ylabel('Loss')\n",
    "plt.show()"
   ]
  },
  {
   "cell_type": "code",
   "execution_count": 45,
   "metadata": {},
   "outputs": [
    {
     "name": "stdout",
     "output_type": "stream",
     "text": [
      "25000/25000 [==============================] - 4s 149us/step\n"
     ]
    }
   ],
   "source": [
    "result = neural_net.evaluate(x_test, y_test)"
   ]
  },
  {
   "cell_type": "code",
   "execution_count": 46,
   "metadata": {},
   "outputs": [
    {
     "data": {
      "text/plain": [
       "[0.7775053268790245, 0.8509600162506104]"
      ]
     },
     "execution_count": 46,
     "metadata": {},
     "output_type": "execute_result"
    }
   ],
   "source": [
    "result"
   ]
  },
  {
   "cell_type": "code",
   "execution_count": null,
   "metadata": {},
   "outputs": [],
   "source": []
  }
 ],
 "metadata": {
  "kernelspec": {
   "display_name": "Python 3",
   "language": "python",
   "name": "python3"
  },
  "language_info": {
   "codemirror_mode": {
    "name": "ipython",
    "version": 3
   },
   "file_extension": ".py",
   "mimetype": "text/x-python",
   "name": "python",
   "nbconvert_exporter": "python",
   "pygments_lexer": "ipython3",
   "version": "3.8.5"
  }
 },
 "nbformat": 4,
 "nbformat_minor": 4
}
